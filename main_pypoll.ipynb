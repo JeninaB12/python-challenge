{
 "cells": [
  {
   "cell_type": "code",
   "execution_count": 1,
   "metadata": {},
   "outputs": [],
   "source": [
    "import os\n",
    "import csv\n",
    "from pathlib import Path"
   ]
  },
  {
   "cell_type": "code",
   "execution_count": 2,
   "metadata": {},
   "outputs": [],
   "source": [
    "budget_data = Path('election_data.csv')\n",
    "total_votes = 0\n",
    "unique_candidates = []\n",
    "vote_count = []"
   ]
  },
  {
   "cell_type": "code",
   "execution_count": 3,
   "metadata": {},
   "outputs": [],
   "source": [
    "with open(budget_data, newline=\"\") as csvfile:\n",
    "    csvreader = csv.reader(csvfile, delimiter=\",\")\n",
    "    csv_header = next(csvreader)\n",
    "\n",
    "    for row in csvreader:\n",
    "        total_votes=total_votes+1\n",
    "        candidate = (row[2])\n",
    "        if candidate in unique_candidates:\n",
    "            candidate_index = unique_candidates.index(candidate)\n",
    "            vote_count[candidate_index] = vote_count[candidate_index] + 1\n",
    "        else:\n",
    "            unique_candidates.append(candidate)\n",
    "            vote_count.append(1)"
   ]
  },
  {
   "cell_type": "code",
   "execution_count": null,
   "metadata": {},
   "outputs": [],
   "source": [
    "percentage = []\n",
    "max_votes = vote_count[0]\n",
    "max_index = 0\n",
    "\n",
    "for x in range(len(unique_candidates)):\n",
    "    #calculation to get the percentage, x is the looper value\n",
    "    vote_percentage = round(vote_count[x]/total_votes*100, 4)\n",
    "    percentage.append(vote_percentage)\n",
    "    \n",
    "    if vote_count[x] > max_votes:\n",
    "        max_votes = vote_count[x]\n",
    "        max_index = x\n",
    "\n",
    "election_winner = unique_candidates[max_index] "
   ]
  },
  {
   "cell_type": "code",
   "execution_count": null,
   "metadata": {},
   "outputs": [],
   "source": [
    "print('---------------------------')\n",
    "print('Election Results')\n",
    "print('---------------------------')\n",
    "print(f'Total Votes: {total_votes}')\n",
    "print('---------------------------')\n",
    "for x in range(len(unique_candidates)):\n",
    "    print(f'{unique_candidates[x]} : {percentage[x]}% ({vote_count[x]})')\n",
    "print('---------------------------')\n",
    "print(f'Winner: {election_winner.upper()}')\n",
    "print('---------------------------')"
   ]
  },
  {
   "cell_type": "code",
   "execution_count": null,
   "metadata": {},
   "outputs": [],
   "source": [
    "output = os.path.join(\"pypoll_election_results.txt\")\n",
    "with open(output, \"w\", newline=\"\") as datafile:\n",
    "    datafile.write('---------------------------\\n')\n",
    "    datafile.write('Election Results\\n')\n",
    "    datafile.write('---------------------------\\n')\n",
    "    datafile.write(f'Total Votes: {total_votes}\\n')\n",
    "    datafile.write('---------------------------\\n')\n",
    "    for x in range(len(unique_candidates)):\n",
    "        datafile.write(f'{unique_candidates[x]} : {percentage[x]}% ({vote_count[x]})\\n')\n",
    "    datafile.write('---------------------------\\n')\n",
    "    datafile.write(f'Election winner: {election_winner.upper()}\\n')\n",
    "    datafile.write('---------------------------')"
   ]
  },
  {
   "cell_type": "code",
   "execution_count": null,
   "metadata": {},
   "outputs": [],
   "source": []
  }
 ],
 "metadata": {
  "kernelspec": {
   "display_name": "Python 3",
   "language": "python",
   "name": "python3"
  },
  "language_info": {
   "codemirror_mode": {
    "name": "ipython",
    "version": 3
   },
   "file_extension": ".py",
   "mimetype": "text/x-python",
   "name": "python",
   "nbconvert_exporter": "python",
   "pygments_lexer": "ipython3",
   "version": "3.7.3"
  }
 },
 "nbformat": 4,
 "nbformat_minor": 2
}
