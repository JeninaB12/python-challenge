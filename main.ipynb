{
 "cells": [
  {
   "cell_type": "code",
   "execution_count": 11,
   "metadata": {},
   "outputs": [],
   "source": [
    "import os\n",
    "import pandas\n",
    "import csv\n",
    "from pathlib import Path"
   ]
  },
  {
   "cell_type": "code",
   "execution_count": 12,
   "metadata": {},
   "outputs": [],
   "source": [
    "csvpath = Path(\"budget_data.csv\")\n",
    "data_csv = pandas.read_csv(csvpath)"
   ]
  },
  {
   "cell_type": "code",
   "execution_count": 13,
   "metadata": {},
   "outputs": [],
   "source": [
    "totalMonths = 0\n",
    "totalRevenue = 0\n",
    "revenue = []\n",
    "previousRevenue = 0\n",
    "monthOfChange = []\n",
    "revenueChange = 0\n",
    "greatestDecrease = [\"\", 9999999]\n",
    "greatestIncrease = [\"\", 0]\n",
    "revenueChangeList = []\n",
    "averageRevenue = 0\n",
    "textFile=\"output.txt\""
   ]
  },
  {
   "cell_type": "code",
   "execution_count": 14,
   "metadata": {},
   "outputs": [],
   "source": [
    "#open the csv file\n",
    "with open('budget_data.csv') as csvfile:  \n",
    "    csvreader = csv.DictReader(csvfile)\n",
    "\n",
    "    #Loop through to find total months\n",
    "    for row in csvreader:\n",
    "\n",
    "        #Count the total of months\n",
    "        totalMonths += 1\n",
    "\n",
    "        #Calculate the total revenue over the entire period\n",
    "        totalRevenue = totalRevenue + int(row[\"Profit/Losses\"])\n",
    "\n",
    "        #Calculate the average change in revenue between months over the entire period\n",
    "        revenueChange = float(row[\"Profit/Losses\"])- previousRevenue\n",
    "        previousRevenue = float(row[\"Profit/Losses\"])\n",
    "        revenueChangeList = revenueChangeList + [revenueChange]\n",
    "        monthOfChange = [monthOfChange] + [row[\"Date\"]]\n",
    "       \n",
    "\n",
    "        #The greatest increase in revenue (date and amount) over the entire period\n",
    "        if revenueChange>greatestIncrease[1]:\n",
    "            greatestIncrease[1]= revenueChange\n",
    "            greatestIncrease[0] = row['Date']\n",
    "\n",
    "        #The greatest decrease in revenue (date and amount) over the entire period\n",
    "        if revenueChange<greatestDecrease[1]:\n",
    "            greatestDecrease[1]= revenueChange\n",
    "            greatestDecrease[0] = row['Date']\n",
    "    averageRevenue = sum(revenueChangeList)/len(revenueChangeList)"
   ]
  },
  {
   "cell_type": "code",
   "execution_count": 17,
   "metadata": {},
   "outputs": [],
   "source": [
    "with open(textFile, 'w') as file:\n",
    "    file.write(\"Financial Analysis\\n\")\n",
    "    file.write(\"-------------------------\\n\")\n",
    "    file.write(\"Total Months: %d\\n\" % totalMonths)\n",
    "    file.write(\"Total Revenue: $%d\\n\" % totalRevenue)\n",
    "    file.write(\"Average Revenue Change $%d\\n\" % averageRevenue)\n",
    "    file.write(\"Greatest Increase in Revenue: %s ($%s)\\n\" % (greatestIncrease[0], greatestIncrease[1]))\n",
    "    file.write(\"Greatest Decrease in Revenue: %s ($%s)\\n\" % (greatestDecrease[0], greatestDecrease[1]))"
   ]
  },
  {
   "cell_type": "code",
   "execution_count": null,
   "metadata": {},
   "outputs": [],
   "source": []
  }
 ],
 "metadata": {
  "kernelspec": {
   "display_name": "Python 3",
   "language": "python",
   "name": "python3"
  },
  "language_info": {
   "codemirror_mode": {
    "name": "ipython",
    "version": 3
   },
   "file_extension": ".py",
   "mimetype": "text/x-python",
   "name": "python",
   "nbconvert_exporter": "python",
   "pygments_lexer": "ipython3",
   "version": "3.7.3"
  }
 },
 "nbformat": 4,
 "nbformat_minor": 2
}
